{
 "cells": [
  {
   "cell_type": "markdown",
   "id": "e87545f6-7575-4c3a-9f79-4fce76f65767",
   "metadata": {},
   "source": [
    "# CSC 365 Lab 8\n",
    "\n",
    "Author: Andrew Cheung  \n",
    "Email: acheun29@calpoly.edu\n",
    "\n",
    "NOTE: The code requires a file named \"account.info\" with the username on the first line and password on the second line."
   ]
  },
  {
   "cell_type": "code",
   "execution_count": 22,
   "id": "c3ea54d4-dff0-43e4-bdcf-12cd7da16cb5",
   "metadata": {},
   "outputs": [
    {
     "name": "stdout",
     "output_type": "stream",
     "text": [
      "           City               Country\n",
      "0       Abidjan         Cote d'Ivoire\n",
      "1     Abu Dhabi  United Arab Emirates\n",
      "2         Abuja               Nigeria\n",
      "3         Accra                 Ghana\n",
      "4   Addis Ababa              Ethiopia\n",
      "..          ...                   ...\n",
      "83        Tunis               Tunisia\n",
      "84   Ulan Bator              Mongolia\n",
      "85    Vientiane                  Laos\n",
      "86      Yaounde              Cameroon\n",
      "87      Yerevan               Armenia\n",
      "\n",
      "[88 rows x 2 columns]\n",
      "done\n"
     ]
    }
   ],
   "source": [
    "import mysql.connector\n",
    "from mysql.connector import Error\n",
    "import pandas as pd\n",
    "\n",
    "\n",
    "def execute_sql(cursor):\n",
    "    cursor.execute(\"USE LAB8;\")\n",
    "#     cursor.execute(\"show tables;\")\n",
    "    cursor.execute(\"SELECT City, Countries.Country \"\n",
    "                   \"FROM Cities, Countries \"\n",
    "                   \"WHERE Cities.Country = Countries.ISO3 \"\n",
    "                       \"AND isCapital = 1;\")\n",
    "    \n",
    "    records = cursor.fetchall()\n",
    "#     print(\"------------------------------------------------------------------\")\n",
    "#     for r in records:\n",
    "#         print(r)\n",
    "#     print(\"------------------------------------------------------------------\")\n",
    "    df = pd.DataFrame(records, columns=[\"City\", \"Country\"])\n",
    "    print(df)\n",
    "\n",
    "\n",
    "def main():\n",
    "    pwdFilename = \"account.info\"\n",
    "    try:\n",
    "        pwdFile = open(pwdFilename, \"r\")\n",
    "        userName = pwdFile.readline().strip()\n",
    "        dbName = userName\n",
    "        passString = pwdFile.readline().strip()\n",
    "    except FileNotFoundError as e:\n",
    "        print(e)\n",
    "        return 1\n",
    "\n",
    "    hostName = \"mysql.labthreesixfive.com\"\n",
    "    portName = \"3306\"\n",
    "\n",
    "    connector = None\n",
    "    cursor = None\n",
    "    try:\n",
    "        connector = mysql.connector.connect(host=hostName, port=portName,\n",
    "                                            database=dbName, user=userName,\n",
    "                                            password=passString)\n",
    "        cursor = connector.cursor()\n",
    "        execute_sql(cursor)\n",
    "\n",
    "    except Error as e:\n",
    "        print(\"connection error:\", e)\n",
    "\n",
    "    finally:\n",
    "        if connector is not None and connector.is_connected():\n",
    "            if cursor is not None:\n",
    "                cursor.close()\n",
    "            connector.close()\n",
    "            print(\"done\")\n",
    "\n",
    "\n",
    "if __name__ == \"__main__\":\n",
    "    main()"
   ]
  },
  {
   "cell_type": "code",
   "execution_count": null,
   "id": "52675e9c-4331-4797-bfb9-e7b4057620bd",
   "metadata": {},
   "outputs": [],
   "source": []
  }
 ],
 "metadata": {
  "kernelspec": {
   "display_name": "Python 3",
   "language": "python",
   "name": "python3"
  },
  "language_info": {
   "codemirror_mode": {
    "name": "ipython",
    "version": 3
   },
   "file_extension": ".py",
   "mimetype": "text/x-python",
   "name": "python",
   "nbconvert_exporter": "python",
   "pygments_lexer": "ipython3",
   "version": "3.8.8"
  }
 },
 "nbformat": 4,
 "nbformat_minor": 5
}
